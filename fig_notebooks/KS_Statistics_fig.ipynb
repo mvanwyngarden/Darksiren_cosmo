{
 "cells": [
  {
   "cell_type": "code",
   "execution_count": 7,
   "metadata": {},
   "outputs": [],
   "source": [
    "import numpy as np\n",
    "import matplotlib.pyplot as plt\n",
    "from scipy import stats\n",
    "import pandas as pd\n",
    "import glob\n",
    "from astropy.cosmology import FlatLambdaCDM\n",
    "true_cosmology = FlatLambdaCDM(H0=70.,Om0=0.25)"
   ]
  },
  {
   "cell_type": "code",
   "execution_count": 8,
   "metadata": {},
   "outputs": [],
   "source": [
    "# Load in the galaxy catalog\n",
    "df = pd.read_parquet('fullcatalog_mag.parquet')"
   ]
  },
  {
   "cell_type": "code",
   "execution_count": 9,
   "metadata": {},
   "outputs": [],
   "source": [
    "# Find the x% brightness thresholds for i-band and g-band\n",
    "iband_10 = df['i_abs_mag'].quantile(0.10)\n",
    "iband_20 = df['i_abs_mag'].quantile(0.20)\n",
    "iband_30 = df['i_abs_mag'].quantile(0.30)\n",
    "gband_10 = df['g_abs_mag'].quantile(0.10)\n",
    "gband_20 = df['g_abs_mag'].quantile(0.20)\n",
    "gband_30 = df['g_abs_mag'].quantile(0.30)"
   ]
  },
  {
   "cell_type": "code",
   "execution_count": 10,
   "metadata": {},
   "outputs": [],
   "source": [
    "# Load in LOSs\n",
    "files = glob.glob('LOS/*.parquet')"
   ]
  },
  {
   "cell_type": "code",
   "execution_count": 13,
   "metadata": {},
   "outputs": [],
   "source": [
    "# Create arrays to hold results\n",
    "ks_i = np.zeros([3, 200])\n",
    "pval_i = np.zeros([3, 200])\n",
    "\n",
    "mags = [iband_10, iband_20, iband_30]\n",
    "for i in range(len(files)):    \n",
    "    df = pd.read_parquet(files[i])\n",
    "    d_L = true_cosmology.luminosity_distance(df['z']).to('pc').value\n",
    "    df['i_abs_mag'] = df['i_des_true']-5*np.log10(d_L)+5\n",
    "    for j in range(3):\n",
    "        # Select brightest galaxies along LOS\n",
    "        df_bright = df[df['i_abs_mag'] <= mags[j]]\n",
    "        z_bright = np.array(df_bright['z'])\n",
    "\n",
    "        # Select redshifts within our dl threshold\n",
    "        z = np.array(df['z'])\n",
    "        z = [zs for zs in z if zs<0.4]\n",
    "        z_bright = [zs for zs in z_bright if zs<0.4]\n",
    "\n",
    "        # Calculate KS statistic and p-value between the brightest galaxies and the full LOS for z<0.4\n",
    "        ks_stat, p_value = stats.ks_2samp(z_bright, z)\n",
    "        ks_i[j, i] = ks_stat\n",
    "        pval_i[j, i] = p_value"
   ]
  },
  {
   "cell_type": "code",
   "execution_count": 14,
   "metadata": {},
   "outputs": [],
   "source": [
    "# Create arrays to hold results\n",
    "ks_g = np.zeros([3, 200])\n",
    "pval_g = np.zeros([3, 200])\n",
    "\n",
    "mags = [gband_10, gband_20, gband_30]\n",
    "for i in range(len(files)):    \n",
    "    df = pd.read_parquet(files[i])\n",
    "    d_L = true_cosmology.luminosity_distance(df['z']).to('pc').value\n",
    "    df['g_abs_mag'] = df['g_des_true']-5*np.log10(d_L)+5\n",
    "    for j in range(3):\n",
    "        # Select brightest galaxies along LOS\n",
    "        df_bright = df[df['g_abs_mag'] <= mags[j]]\n",
    "        z_bright = np.array(df_bright['z'])\n",
    "\n",
    "        # Select redshifts within our dl threshold\n",
    "        z = np.array(df['z'])\n",
    "        z = [zs for zs in z if zs<0.4]\n",
    "        z_bright = [zs for zs in z_bright if zs<0.4]\n",
    "\n",
    "        # Calculate KS statistic and p-value between the brightest galaxies and the full LOS for z<0.4\n",
    "        ks_stat, p_value = stats.ks_2samp(z_bright, z)\n",
    "        ks_g[j, i] = ks_stat\n",
    "        pval_g[j, i] = p_value"
   ]
  },
  {
   "cell_type": "code",
   "execution_count": 16,
   "metadata": {},
   "outputs": [
    {
     "data": {
      "text/plain": [
       "Text(0.5, 0, 'KS Statistic for $z\\\\leq4$')"
      ]
     },
     "execution_count": 16,
     "metadata": {},
     "output_type": "execute_result"
    },
    {
     "data": {
      "image/png": "[encoded data removed]",
      "text/plain": [
       "<Figure size 640x480 with 1 Axes>"
      ]
     },
     "metadata": {},
     "output_type": "display_data"
    }
   ],
   "source": [
    "plt.hist(ks_i[0,:], bins=15, color='mediumvioletred', histtype='step')\n",
    "plt.hist(ks_i[1,:], bins=15, color='mediumvioletred', alpha=0.6)\n",
    "plt.hist(ks_i[2,:], bins=15, color='mediumvioletred', alpha=0.3)\n",
    "legend1=plt.legend(['10%', '20%', '30%'], title='i-band')\n",
    "\n",
    "plt.hist(ks_g[0,:], bins=20, label='10%', color='mediumblue', histtype='step')\n",
    "plt.hist(ks_g[1,:], bins=20, label='20%', color='mediumblue', alpha=0.6)\n",
    "plt.hist(ks_g[2,:], bins=20, label='30%', color='mediumblue', alpha=0.3)\n",
    "plt.legend(title='g-band', bbox_to_anchor=[1,0.75])\n",
    "plt.gca().add_artist(legend1)\n",
    "\n",
    "plt.xlabel(r'KS Statistic for $z\\leq4$')"
   ]
  },
  {
   "cell_type": "code",
   "execution_count": null,
   "metadata": {},
   "outputs": [],
   "source": []
  }
 ],
 "metadata": {
  "kernelspec": {
   "display_name": "testenv",
   "language": "python",
   "name": "python3"
  },
  "language_info": {
   "codemirror_mode": {
    "name": "ipython",
    "version": 3
   },
   "file_extension": ".py",
   "mimetype": "text/x-python",
   "name": "python",
   "nbconvert_exporter": "python",
   "pygments_lexer": "ipython3",
   "version": "3.12.5"
  }
 },
 "nbformat": 4,
 "nbformat_minor": 2
}
